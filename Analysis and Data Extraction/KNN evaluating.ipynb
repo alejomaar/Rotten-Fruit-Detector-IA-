{
 "cells": [
  {
   "cell_type": "code",
   "execution_count": 1,
   "id": "2b3dc319",
   "metadata": {},
   "outputs": [
    {
     "name": "stdout",
     "output_type": "stream",
     "text": [
      "hola\n"
     ]
    }
   ],
   "source": [
    "#load dataframe\n",
    "import pandas as pd\n",
    "\n",
    "df = pd.read_csv(\"fruitdata.csv\")\n",
    "df.fruit= df.fruit.astype('category')\n",
    "df.state = df.state.astype('category')\n",
    "df[\"fruit\"] = df[\"fruit\"].map({\"apple\": 0, \"banana\": 1,\"oranges\":2})\n",
    "print(\"hola\")\n"
   ]
  },
  {
   "cell_type": "code",
   "execution_count": 3,
   "id": "d0d8f0d6",
   "metadata": {},
   "outputs": [
    {
     "name": "stdout",
     "output_type": "stream",
     "text": [
      "0.8333333333333334\n",
      "0.8095238095238095\n",
      "0.8095238095238095\n",
      "0.8571428571428571\n",
      "0.8095238095238095\n",
      "0.8333333333333334\n",
      "0.8095238095238095\n",
      "0.8095238095238095\n",
      "0.8571428571428571\n",
      "0.7857142857142857\n",
      "0.8095238095238095\n",
      "0.7857142857142857\n",
      "0.7857142857142857\n",
      "0.7857142857142857\n"
     ]
    }
   ],
   "source": [
    "import math\n",
    "import numpy as np\n",
    "\n",
    "class Knn:\n",
    "    def __init__(self, data):\n",
    "        self.data = data\n",
    "     \n",
    "    def classification(self, x,n):\n",
    "        def distance(WorldPoint,currentPoint):\n",
    "            vecxtov = [WorldPoint[i] - currentPoint[i] for i in range(len(WorldPoint))] \n",
    "            distacc = 0\n",
    "            for pos in vecxtov:\n",
    "                distacc += pos**2\n",
    "            return math.sqrt(distacc)\n",
    "        \n",
    "        knndf  = self.data.copy()\n",
    "        knndf[\"distance\"] = knndf.iloc[:, 3:].apply(distance,currentPoint=x, axis=1)\n",
    "        knndf = knndf.sort_values(by='distance', ascending=True).fruit\n",
    "        \n",
    "        knnselection = knndf.head(n)\n",
    "        classification = knnselection.value_counts().index[0]\n",
    "        return  classification\n",
    "\n",
    "df = df.sample(frac = 1,random_state=23)\n",
    "train=df.sample(frac=0.94,random_state=109) #random state is a seed value\n",
    "test=df.drop(train.index)\n",
    "\n",
    "fruitKnn = Knn(train)\n",
    "\n",
    "Maxneighboorhods = 15\n",
    "ListNeighboorhods = []\n",
    "ListPrediction = []\n",
    "for neighboorhods in range(1,Maxneighboorhods): \n",
    "    AcurracyList = []\n",
    "    for i in range(len(test)):\n",
    "        currentTest = test.iloc[[i]]\n",
    "        currentStats = currentTest.values.tolist()[0][3:]\n",
    "\n",
    "        classification = fruitKnn.classification(currentStats,neighboorhods)\n",
    "        realclass = currentTest.fruit.item()\n",
    "        #print(\"predict: \",classification,\"real\",realclass)\n",
    "        AcurracyList.append(classification==realclass)\n",
    "\n",
    "    NpAcurracyList = np.array(AcurracyList)\n",
    "    hits = len(NpAcurracyList[NpAcurracyList==True]) #Numero de aciertos\n",
    "    numberSamples = len(AcurracyList) #Numero de muestras\n",
    "    prediction = hits/numberSamples\n",
    "    print(prediction)\n",
    "    ListNeighboorhods.append(neighboorhods)\n",
    "    ListPrediction.append(prediction)"
   ]
  },
  {
   "cell_type": "code",
   "execution_count": 5,
   "id": "58ad3578",
   "metadata": {},
   "outputs": [
    {
     "name": "stdout",
     "output_type": "stream",
     "text": [
      "Using matplotlib backend: Qt5Agg\n"
     ]
    },
    {
     "data": {
      "image/png": "[encoded data removed]",
      "text/plain": [
       "<Figure size 432x288 with 1 Axes>"
      ]
     },
     "metadata": {
      "needs_background": "light"
     },
     "output_type": "display_data"
    }
   ],
   "source": [
    "%matplotlib\n",
    "%matplotlib inline\n",
    "import matplotlib.pyplot as plt\n",
    "\n",
    "plt.plot(ListNeighboorhods, ListPrediction)\n",
    "plt.xlabel(\"K vecinos\")\n",
    "plt.ylabel(\"Precision\")\n",
    "plt.show()\n"
   ]
  },
  {
   "cell_type": "code",
   "execution_count": 10,
   "id": "bda117c2",
   "metadata": {},
   "outputs": [],
   "source": [
    "df = pd.read_csv(\"fruitdata.csv\")\n",
    "df.fruit= df.fruit.astype('category')\n",
    "df.state = df.state.astype('category')\n",
    "df = df[df.fruit ==\"oranges\" ]\n",
    "df[\"state\"] = df[\"state\"].map({\"good\": 1, \"bad\": 0})"
   ]
  },
  {
   "cell_type": "code",
   "execution_count": 11,
   "id": "f55ad364",
   "metadata": {},
   "outputs": [
    {
     "name": "stdout",
     "output_type": "stream",
     "text": [
      "entre\n",
      "0.9166666666666666\n",
      "0.7777777777777778\n",
      "0.75\n",
      "0.7777777777777778\n",
      "0.8055555555555556\n",
      "0.7777777777777778\n",
      "0.8055555555555556\n",
      "0.8055555555555556\n",
      "0.8055555555555556\n",
      "0.8333333333333334\n",
      "0.8055555555555556\n",
      "0.8055555555555556\n",
      "0.8055555555555556\n",
      "0.7777777777777778\n"
     ]
    }
   ],
   "source": [
    "import math\n",
    "import numpy as np\n",
    "\n",
    "class Knn:\n",
    "    def __init__(self, data):\n",
    "        self.data = data\n",
    "     \n",
    "    def classification(self, x,n):\n",
    "        def distance(WorldPoint,currentPoint):\n",
    "            vecxtov = [WorldPoint[i] - currentPoint[i] for i in range(len(WorldPoint))] \n",
    "            distacc = 0\n",
    "            for pos in vecxtov:\n",
    "                distacc += pos**2\n",
    "            return math.sqrt(distacc)\n",
    "        \n",
    "        knndf  = self.data.copy()\n",
    "        knndf[\"distance\"] = knndf.iloc[:, 3:].apply(distance,currentPoint=x, axis=1)\n",
    "        knndf = knndf.sort_values(by='distance', ascending=True).state\n",
    "        \n",
    "        knnselection = knndf.head(n)\n",
    "        classification = knnselection.value_counts().index[0]\n",
    "        print(classification)\n",
    "        return  classification\n",
    "\n",
    "df = df.sample(frac = 1,random_state=23)\n",
    "train=df.sample(frac=0.80,random_state=109) #random state is a seed value\n",
    "test=df.drop(train.index)\n",
    "\n",
    "fruitKnn = Knn(train)\n",
    "print(\"entre\")\n",
    "\n",
    "Maxneighboorhods = 10\n",
    "ListNeighboorhods = []\n",
    "ListPrediction = []\n",
    "for neighboorhods in range(1,Maxneighboorhods): \n",
    "    AcurracyList = []\n",
    "    for i in range(len(test)):\n",
    "        currentTest = test.iloc[[i]]\n",
    "        currentStats = currentTest.values.tolist()[0][3:]\n",
    "\n",
    "        classification = fruitKnn.classification(currentStats,neighboorhods)\n",
    "        realclass = currentTest.state.item()\n",
    "        #print(\"predict: \",classification,\"real\",realclass)\n",
    "        AcurracyList.append(classification==realclass)\n",
    "\n",
    "    NpAcurracyList = np.array(AcurracyList)\n",
    "    hits = len(NpAcurracyList[NpAcurracyList==True]) #Numero de aciertos\n",
    "    numberSamples = len(AcurracyList) #Numero de muestras\n",
    "    prediction = hits/numberSamples\n",
    "    print(prediction)\n",
    "    ListNeighboorhods.append(neighboorhods)\n",
    "    ListPrediction.append(prediction)"
   ]
  },
  {
   "cell_type": "code",
   "execution_count": 12,
   "id": "3bc3b6dd",
   "metadata": {},
   "outputs": [
    {
     "name": "stdout",
     "output_type": "stream",
     "text": [
      "Using matplotlib backend: Qt5Agg\n"
     ]
    },
    {
     "data": {
      "image/png": "[encoded data removed]",
      "text/plain": [
       "<Figure size 432x288 with 1 Axes>"
      ]
     },
     "metadata": {
      "needs_background": "light"
     },
     "output_type": "display_data"
    }
   ],
   "source": [
    "%matplotlib\n",
    "%matplotlib inline\n",
    "import matplotlib.pyplot as plt\n",
    "\n",
    "plt.plot(ListNeighboorhods, ListPrediction)\n",
    "plt.title(\"Estado de la naranja por KNN\")\n",
    "plt.xlabel(\"K vecinos\")\n",
    "plt.ylabel(\"Precision\")\n",
    "plt.show()"
   ]
  },
  {
   "cell_type": "code",
   "execution_count": 14,
   "id": "8a2d443d",
   "metadata": {},
   "outputs": [
    {
     "ename": "TypeError",
     "evalue": "unsupported operand type(s) for /: 'list' and 'int'",
     "output_type": "error",
     "traceback": [
      "\u001b[1;31m---------------------------------------------------------------------------\u001b[0m",
      "\u001b[1;31mTypeError\u001b[0m                                 Traceback (most recent call last)",
      "\u001b[1;32m<ipython-input-14-803ca3b83316>\u001b[0m in \u001b[0;36m<module>\u001b[1;34m\u001b[0m\n\u001b[1;32m----> 1\u001b[1;33m \u001b[1;33m[\u001b[0m\u001b[1;36m5\u001b[0m\u001b[1;33m,\u001b[0m\u001b[1;36m7\u001b[0m\u001b[1;33m,\u001b[0m\u001b[1;36m8\u001b[0m\u001b[1;33m]\u001b[0m\u001b[1;33m/\u001b[0m\u001b[1;36m2\u001b[0m\u001b[1;33m\u001b[0m\u001b[1;33m\u001b[0m\u001b[0m\n\u001b[0m",
      "\u001b[1;31mTypeError\u001b[0m: unsupported operand type(s) for /: 'list' and 'int'"
     ]
    }
   ],
   "source": []
  },
  {
   "cell_type": "code",
   "execution_count": null,
   "id": "21922fbd",
   "metadata": {},
   "outputs": [],
   "source": []
  }
 ],
 "metadata": {
  "kernelspec": {
   "display_name": "Python 3",
   "language": "python",
   "name": "python3"
  },
  "language_info": {
   "codemirror_mode": {
    "name": "ipython",
    "version": 3
   },
   "file_extension": ".py",
   "mimetype": "text/x-python",
   "name": "python",
   "nbconvert_exporter": "python",
   "pygments_lexer": "ipython3",
   "version": "3.8.8"
  }
 },
 "nbformat": 4,
 "nbformat_minor": 5
}
